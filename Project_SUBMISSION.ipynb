{
 "cells": [
  {
   "cell_type": "code",
   "execution_count": 116,
   "metadata": {},
   "outputs": [],
   "source": [
    "import numpy as np\n",
    "import pandas as pd\n",
    "import re\n",
    "\n",
    "from nltk.corpus import stopwords\n",
    "from nltk.stem import PorterStemmer\n",
    "from nltk.tokenize import word_tokenize\n",
    "\n",
    "from silence_tensorflow import silence_tensorflow\n",
    "silence_tensorflow()\n",
    "\n",
    "from keras.preprocessing.text import Tokenizer\n",
    "from keras.preprocessing.sequence import pad_sequences"
   ]
  },
  {
   "cell_type": "code",
   "execution_count": 132,
   "metadata": {},
   "outputs": [],
   "source": [
    "dataset_path = '/Users/harikrishnanagarajan/Downloads/final-testData-no-label-Romney-tweets(1).xlsx'\n",
    "read_file = pd.read_excel(dataset_path)\n",
    "read_file.to_csv('DATASET')"
   ]
  },
  {
   "cell_type": "code",
   "execution_count": 133,
   "metadata": {},
   "outputs": [],
   "source": [
    "df = pd.read_csv('DATASET', usecols= [2], names= ['Anootated tweet'])"
   ]
  },
  {
   "cell_type": "code",
   "execution_count": 134,
   "metadata": {},
   "outputs": [
    {
     "data": {
      "text/html": [
       "<div>\n",
       "<style scoped>\n",
       "    .dataframe tbody tr th:only-of-type {\n",
       "        vertical-align: middle;\n",
       "    }\n",
       "\n",
       "    .dataframe tbody tr th {\n",
       "        vertical-align: top;\n",
       "    }\n",
       "\n",
       "    .dataframe thead th {\n",
       "        text-align: right;\n",
       "    }\n",
       "</style>\n",
       "<table border=\"1\" class=\"dataframe\">\n",
       "  <thead>\n",
       "    <tr style=\"text-align: right;\">\n",
       "      <th></th>\n",
       "      <th>Anootated tweet</th>\n",
       "    </tr>\n",
       "  </thead>\n",
       "  <tbody>\n",
       "    <tr>\n",
       "      <th>0</th>\n",
       "      <td>&lt;e&gt;Romney&lt;/e&gt; got 3 less minutes and had to de...</td>\n",
       "    </tr>\n",
       "    <tr>\n",
       "      <th>1</th>\n",
       "      <td>&lt;e&gt;Mitt  &lt;/e&gt;is beating him UP!  on his record...</td>\n",
       "    </tr>\n",
       "    <tr>\n",
       "      <th>2</th>\n",
       "      <td>I actually like  &lt;e&gt;Romney &lt;/e&gt;'s response to ...</td>\n",
       "    </tr>\n",
       "    <tr>\n",
       "      <th>3</th>\n",
       "      <td>Just for that &lt;a&gt;immigration statement &lt;/a&gt;tha...</td>\n",
       "    </tr>\n",
       "    <tr>\n",
       "      <th>4</th>\n",
       "      <td>This man  &lt;e&gt;Romney  &lt;/e&gt;is tearing this dude ...</td>\n",
       "    </tr>\n",
       "    <tr>\n",
       "      <th>5</th>\n",
       "      <td>&lt;e&gt;Romney  &lt;/e&gt;had less to prove, given the la...</td>\n",
       "    </tr>\n",
       "    <tr>\n",
       "      <th>6</th>\n",
       "      <td>&lt;e&gt;Romney &lt;/e&gt;- he comes off as a dumbass, but...</td>\n",
       "    </tr>\n",
       "    <tr>\n",
       "      <th>7</th>\n",
       "      <td>Great &lt;a&gt;closing&lt;/a&gt; by  &lt;e&gt;Romney &lt;/e&gt;. Summe...</td>\n",
       "    </tr>\n",
       "    <tr>\n",
       "      <th>8</th>\n",
       "      <td>Just ready for  &lt;e&gt;Romney &lt;/e&gt; to become presi...</td>\n",
       "    </tr>\n",
       "    <tr>\n",
       "      <th>9</th>\n",
       "      <td>Get him on his trampling on the Constitution, ...</td>\n",
       "    </tr>\n",
       "  </tbody>\n",
       "</table>\n",
       "</div>"
      ],
      "text/plain": [
       "                                     Anootated tweet\n",
       "0  <e>Romney</e> got 3 less minutes and had to de...\n",
       "1  <e>Mitt  </e>is beating him UP!  on his record...\n",
       "2  I actually like  <e>Romney </e>'s response to ...\n",
       "3  Just for that <a>immigration statement </a>tha...\n",
       "4  This man  <e>Romney  </e>is tearing this dude ...\n",
       "5  <e>Romney  </e>had less to prove, given the la...\n",
       "6  <e>Romney </e>- he comes off as a dumbass, but...\n",
       "7  Great <a>closing</a> by  <e>Romney </e>. Summe...\n",
       "8  Just ready for  <e>Romney </e> to become presi...\n",
       "9  Get him on his trampling on the Constitution, ..."
      ]
     },
     "execution_count": 134,
     "metadata": {},
     "output_type": "execute_result"
    }
   ],
   "source": [
    "df.head(10)"
   ]
  },
  {
   "cell_type": "code",
   "execution_count": 135,
   "metadata": {},
   "outputs": [],
   "source": [
    "stop_words = stopwords.words('english')\n",
    "stemmer = PorterStemmer()\n",
    "\n",
    "TEXT_CLEANING_RE = \"@\\S+|https?:\\S+|http?:\\S|[^A-Za-z0-9]+\""
   ]
  },
  {
   "cell_type": "code",
   "execution_count": 136,
   "metadata": {},
   "outputs": [],
   "source": [
    "def preprocess(tweet):\n",
    "    # Remove link,user and special characters\n",
    "    tweet = str(tweet).replace('<e>','')\n",
    "    tweet = str(tweet).replace('</e>', '')\n",
    "    tweet = re.sub(TEXT_CLEANING_RE, ' ', str(tweet).lower()).strip()\n",
    "    \n",
    "    tokens = []\n",
    "    for token in tweet.split():\n",
    "        if token not in stop_words:\n",
    "            tokens.append(stemmer.stem(token))\n",
    "    return \" \".join(tokens)"
   ]
  },
  {
   "cell_type": "code",
   "execution_count": 137,
   "metadata": {},
   "outputs": [],
   "source": [
    "df['Anootated tweet'] = df['Anootated tweet'].apply(lambda x: preprocess(x))"
   ]
  },
  {
   "cell_type": "code",
   "execution_count": 138,
   "metadata": {},
   "outputs": [],
   "source": [
    "def pred(x):\n",
    "    temp = []\n",
    "    for i in x:\n",
    "        m = np.argmax(i)\n",
    "        if m == 0:\n",
    "            temp.append('1')\n",
    "        elif m == 1:\n",
    "            temp.append('0')\n",
    "        else:\n",
    "            temp.append('2')\n",
    "    return temp"
   ]
  },
  {
   "cell_type": "code",
   "execution_count": 139,
   "metadata": {},
   "outputs": [
    {
     "data": {
      "text/html": [
       "<div>\n",
       "<style scoped>\n",
       "    .dataframe tbody tr th:only-of-type {\n",
       "        vertical-align: middle;\n",
       "    }\n",
       "\n",
       "    .dataframe tbody tr th {\n",
       "        vertical-align: top;\n",
       "    }\n",
       "\n",
       "    .dataframe thead th {\n",
       "        text-align: right;\n",
       "    }\n",
       "</style>\n",
       "<table border=\"1\" class=\"dataframe\">\n",
       "  <thead>\n",
       "    <tr style=\"text-align: right;\">\n",
       "      <th></th>\n",
       "      <th>Anootated tweet</th>\n",
       "    </tr>\n",
       "  </thead>\n",
       "  <tbody>\n",
       "    <tr>\n",
       "      <th>0</th>\n",
       "      <td>romney got 3 less minut debat candi crowley st...</td>\n",
       "    </tr>\n",
       "    <tr>\n",
       "      <th>1</th>\n",
       "      <td>mitt beat record credibl charact</td>\n",
       "    </tr>\n",
       "    <tr>\n",
       "      <th>2</th>\n",
       "      <td>actual like romney respons immigr</td>\n",
       "    </tr>\n",
       "    <tr>\n",
       "      <th>3</th>\n",
       "      <td>immigr statement romney answer 18 enough get vote</td>\n",
       "    </tr>\n",
       "    <tr>\n",
       "      <th>4</th>\n",
       "      <td>man romney tear dude econom</td>\n",
       "    </tr>\n",
       "    <tr>\n",
       "      <th>5</th>\n",
       "      <td>romney less prove given last debat back inch p...</td>\n",
       "    </tr>\n",
       "    <tr>\n",
       "      <th>6</th>\n",
       "      <td>romney come dumbass love plan small larg busi ...</td>\n",
       "    </tr>\n",
       "    <tr>\n",
       "      <th>7</th>\n",
       "      <td>great close romney sum well debat</td>\n",
       "    </tr>\n",
       "    <tr>\n",
       "      <th>8</th>\n",
       "      <td>readi romney becom presid lol</td>\n",
       "    </tr>\n",
       "    <tr>\n",
       "      <th>9</th>\n",
       "      <td>get trampl constitut mitt pleas</td>\n",
       "    </tr>\n",
       "  </tbody>\n",
       "</table>\n",
       "</div>"
      ],
      "text/plain": [
       "                                     Anootated tweet\n",
       "0  romney got 3 less minut debat candi crowley st...\n",
       "1                   mitt beat record credibl charact\n",
       "2                  actual like romney respons immigr\n",
       "3  immigr statement romney answer 18 enough get vote\n",
       "4                        man romney tear dude econom\n",
       "5  romney less prove given last debat back inch p...\n",
       "6  romney come dumbass love plan small larg busi ...\n",
       "7                  great close romney sum well debat\n",
       "8                      readi romney becom presid lol\n",
       "9                    get trampl constitut mitt pleas"
      ]
     },
     "execution_count": 139,
     "metadata": {},
     "output_type": "execute_result"
    }
   ],
   "source": [
    "df = df.dropna(subset= ['Anootated tweet'])\n",
    "df = df.reset_index()\n",
    "df = df.drop(['index'], axis= 1)\n",
    "df.head(10)"
   ]
  },
  {
   "cell_type": "code",
   "execution_count": 141,
   "metadata": {},
   "outputs": [
    {
     "name": "stdout",
     "output_type": "stream",
     "text": [
      "Total words in the vocab: 3845\n"
     ]
    }
   ],
   "source": [
    "tokenizer = Tokenizer()\n",
    "tokenizer.fit_on_texts(df['Anootated tweet'])\n",
    "\n",
    "vocab_size = len(tokenizer.word_index) + 1\n",
    "print('Total words in the vocab:', vocab_size)\n",
    "\n",
    "SEQ_LENGTH = 50"
   ]
  },
  {
   "cell_type": "code",
   "execution_count": 142,
   "metadata": {},
   "outputs": [
    {
     "name": "stdout",
     "output_type": "stream",
     "text": [
      "Shape of test data: (1900, 50)\n"
     ]
    }
   ],
   "source": [
    "test = pad_sequences(tokenizer.texts_to_sequences(df['Anootated tweet']), maxlen= SEQ_LENGTH, padding='post', truncating = 'pre')\n",
    "print('Shape of test data:', test.shape)"
   ]
  },
  {
   "cell_type": "code",
   "execution_count": 143,
   "metadata": {},
   "outputs": [],
   "source": [
    "import tensorflow.keras.backend as K\n",
    "\n",
    "def f1_value(y_true, y_pred): #taken from old keras source code\n",
    "    \n",
    "    true_positives = K.sum(K.round(K.clip(y_true * y_pred, 0, 1)))\n",
    "    \n",
    "    possible_positives = K.sum(K.round(K.clip(y_true, 0, 1)))\n",
    "    \n",
    "    predicted_positives = K.sum(K.round(K.clip(y_pred, 0, 1)))\n",
    "    \n",
    "    precision = true_positives / (predicted_positives + K.epsilon())\n",
    "    \n",
    "    recall = true_positives / (possible_positives + K.epsilon())\n",
    "    \n",
    "    f1_val = 2*(precision*recall)/(precision+recall+K.epsilon())\n",
    "    \n",
    "    return f1_val"
   ]
  },
  {
   "cell_type": "code",
   "execution_count": 144,
   "metadata": {},
   "outputs": [],
   "source": [
    "from tensorflow import keras\n",
    "\n",
    "loaded_model = keras.models.load_model('BEST_MODEL_GRU', custom_objects= {'f1_value': f1_value})"
   ]
  },
  {
   "cell_type": "code",
   "execution_count": 145,
   "metadata": {},
   "outputs": [],
   "source": [
    "predict = loaded_model.predict(test)\n",
    "true_pred = pred(predict)"
   ]
  },
  {
   "cell_type": "code",
   "execution_count": 146,
   "metadata": {},
   "outputs": [],
   "source": [
    "file1 = open('romney.txt', 'w+')\n",
    "\n",
    "file1.write('78 74\\n')\n",
    "\n",
    "for i in range(len(true_pred)):\n",
    "    if true_pred[i] == '2':\n",
    "        file1.write(str(i + 1) + ';;-1\\n')\n",
    "    else:\n",
    "        file1.write(str(i + 1) + ';;' + true_pred[i] + '\\n')\n",
    "\n",
    "file1.close()"
   ]
  },
  {
   "cell_type": "code",
   "execution_count": 115,
   "metadata": {},
   "outputs": [
    {
     "name": "stdout",
     "output_type": "stream",
     "text": [
      "['1', '0', '2', '1', '0', '2', '0', '2', '1', '0', '0', '0', '2', '0', '0', '2', '1', '2', '0', '2', '0', '2', '0', '1', '1', '0', '1', '2', '0', '1', '1', '0', '1', '1', '1', '0', '0', '2', '1', '2', '1', '1', '0', '2', '0', '1', '0', '0', '0', '1', '2', '2', '1', '2', '0', '0', '1', '2', '0', '1', '0', '1', '1', '0', '0', '2', '0', '1', '1', '1', '0', '0', '0', '1', '2', '2', '2', '2', '2', '2', '1', '1', '0', '0', '2', '2', '0', '2', '1', '1', '2', '1', '1', '2', '1', '1', '2', '1', '1', '1', '1', '1', '0', '0', '0', '0', '2', '0', '2', '0', '1', '2', '0', '2', '2', '0', '1', '0', '1', '2', '2', '2', '0', '2', '1', '1', '0', '2', '0', '0', '0', '0', '0', '1', '0', '2', '2', '0', '1', '0', '2', '0', '0', '1', '1', '2', '2', '2', '2', '2', '1', '1', '2', '2', '0', '1', '1', '1', '1', '2', '2', '2', '2', '0', '0', '0', '2', '0', '2', '2', '2', '1', '2', '0', '1', '2', '2', '0', '0', '0', '0', '2', '1', '0', '1', '1', '2', '0', '1', '0', '0', '0', '1', '0', '1', '0', '2', '1', '2', '1', '1', '0', '0', '1', '2', '2', '0', '2', '1', '0', '0', '1', '2', '0', '1', '0', '1', '1', '2', '2', '1', '0', '0', '0', '1', '1', '0', '2', '0', '0', '0', '1', '0', '0', '1', '0', '2', '0', '2', '1', '2', '2', '2', '0', '2', '2', '0', '1', '0', '1', '0', '2', '0', '0', '0', '1', '1', '2', '0', '2', '1', '1', '0', '1', '1', '0', '1', '0', '1', '1', '1', '0', '1', '1', '0', '0', '2', '0', '0', '2', '0', '2', '2', '1', '2', '2', '1', '0', '0', '2', '0', '2', '1', '1', '1', '1', '1', '1', '0', '1', '2', '0', '0', '2', '0', '2', '2', '0', '2', '2', '2', '2', '0', '2', '0', '1', '2', '2', '2', '0', '1', '0', '2', '1', '0', '0', '1', '1', '1', '0', '1', '0', '1', '1', '2', '2', '1', '1', '0', '0', '2', '2', '1', '1', '0', '1', '1', '0', '0', '0', '2', '2', '0', '0', '1', '1', '1', '1', '1', '1', '0', '0', '2', '1', '2', '1', '1', '2', '1', '0', '0', '2', '1', '2', '1', '2', '0', '2', '1', '0', '0', '0', '1', '0', '1', '0', '0', '0', '1', '0', '1', '0', '1', '1', '1', '1', '0', '2', '0', '1', '2', '0', '1', '1', '1', '1', '0', '1', '2', '1', '0', '1', '0', '1', '2', '0', '2', '0', '2', '2', '0', '0', '0', '2', '0', '1', '2', '2', '0', '1', '2', '1', '2', '2', '1', '0', '0', '2', '0', '1', '2', '2', '1', '1', '2', '2', '1', '1', '0', '2', '0', '2', '0', '0', '1', '0', '0', '2', '0', '0', '2', '1', '2', '1', '2', '2', '1', '0', '2', '1', '1', '2', '0', '1', '2', '1', '2', '1', '2', '0', '1', '0', '1', '0', '0', '1', '2', '1', '0', '0', '2', '0', '0', '1', '0', '0', '2', '1', '2', '2', '2', '2', '0', '1', '2', '0', '2', '0', '1', '1', '0', '2', '1', '0', '0', '2', '1', '0', '2', '2', '0', '2', '2', '0', '0', '2', '2', '2', '2', '0', '0', '0', '1', '1', '1', '0', '2', '2', '0', '0', '0', '2', '0', '0', '2', '2', '1', '0', '0', '0', '2', '1', '0', '2', '1', '0', '0', '2', '1', '0', '1', '0', '0', '2', '0', '2', '1', '1', '1', '0', '2', '2', '0', '1', '1', '1', '2', '0', '2', '0', '0', '0', '1', '0', '1', '0', '0', '1', '2', '0', '2', '0', '0', '2', '0', '0', '1', '2', '2', '0', '0', '0', '0', '1', '1', '2', '2', '0', '0', '2', '0', '2', '0', '2', '1', '0', '2', '1', '2', '0', '0', '1', '0', '0', '0', '1', '1', '0', '1', '2', '1', '2', '1', '1', '0', '2', '1', '2', '2', '1', '2', '1', '2', '2', '1', '2', '2', '0', '2', '0', '0', '1', '1', '2', '0', '2', '2', '0', '0', '2', '2', '1', '1', '2', '2', '1', '2', '0', '2', '1', '1', '2', '0', '2', '2', '0', '2', '2', '0', '2', '2', '0', '0', '0', '2', '0', '1', '0', '1', '2', '1', '2', '2', '0', '0', '2', '2', '0', '2', '0', '2', '2', '1', '2', '0', '0', '0', '0', '0', '0', '0', '0', '0', '0', '0', '1', '0', '0', '0', '0', '1', '0', '0', '2', '0', '0', '0', '2', '2', '1', '2', '2', '2', '2', '0', '2', '0', '2', '2', '2', '2', '2', '1', '2', '1', '1', '2', '2', '0', '0', '2', '1', '2', '2', '2', '0', '1', '2', '1', '2', '0', '1', '0', '1', '0', '0', '0', '2', '0', '1', '2', '0', '0', '1', '0', '0', '0', '1', '0', '0', '0', '0', '0', '2', '1', '1', '1', '2', '0', '1', '1', '0', '0', '0', '0', '0', '0', '1', '2', '0', '1', '0', '0', '0', '0', '1', '0', '2', '0', '0', '2', '2', '0', '0', '2', '0', '0', '0', '1', '0', '0', '2', '2', '2', '2', '0', '1', '0', '2', '2', '2', '1', '2', '2', '0', '1', '0', '2', '1', '0', '2', '2', '0', '2', '0', '0', '2', '0', '0', '0', '1', '2', '2', '2', '0', '2', '2', '0', '1', '1', '0', '2', '0', '0', '2', '0', '2', '2', '2', '2', '0', '0', '2', '2', '0', '2', '0', '2', '1', '2', '0', '0', '0', '0', '0', '2', '0', '0', '0', '0', '2', '1', '0', '0', '0', '0', '0', '2', '2', '0', '0', '2', '0', '1', '0', '2', '2', '0', '0', '0', '2', '1', '1', '0', '0', '0', '1', '0', '1', '0', '2', '1', '0', '2', '2', '2', '2', '0', '0', '1', '0', '0', '2', '0', '1', '0', '1', '0', '0', '2', '2', '2', '0', '0', '1', '0', '0', '0', '0', '2', '0', '0', '0', '1', '0', '0', '1', '0', '2', '0', '0', '0', '0', '0', '0', '0', '2', '1', '0', '2', '2', '1', '0', '1', '2', '0', '0', '2', '1', '0', '0', '0', '2', '0', '0', '0', '0', '2', '2', '2', '0', '2', '0', '2', '2', '2', '0', '2', '0', '2', '1', '0', '1', '2', '2', '0', '1', '2', '2', '1', '0', '2', '2', '1', '1', '0', '0', '0', '0', '0', '0', '2', '2', '1', '2', '1', '0', '2', '2', '1', '2', '0', '0', '2', '2', '0', '0', '2', '2', '2', '2', '1', '0', '0', '0', '1', '0', '0', '2', '0', '1', '0', '2', '0', '2', '0', '1', '2', '0', '0', '2', '2', '2', '0', '0', '2', '0', '1', '2', '1', '0', '0', '0', '2', '2', '1', '0', '0', '2', '2', '0', '0', '0', '1', '0', '1', '0', '0', '2', '0', '0', '2', '1', '0', '0', '0', '0', '0', '0', '1', '1', '1', '1', '1', '1', '0', '2', '1', '0', '2', '0', '2', '0', '2', '1', '1', '0', '0', '0', '2', '0', '0', '2', '1', '0', '2', '2', '0', '0', '1', '0', '2', '0', '1', '2', '2', '0', '0', '2', '1', '1', '2', '2', '0', '0', '1', '1', '0', '2', '0', '0', '1', '0', '1', '1', '0', '2', '1', '0', '2', '0', '1', '0', '2', '2', '0', '2', '2', '2', '0', '0', '2', '2', '2', '0', '0', '2', '0', '0', '2', '0', '2', '1', '0', '2', '0', '1', '2', '0', '0', '2', '0', '2', '2', '2', '0', '0', '0', '1', '2', '2', '2', '2', '2', '2', '0', '0', '1', '2', '0', '0', '0', '0', '1', '0', '0', '2', '0', '0', '2', '0', '2', '2', '2', '0', '2', '1', '0', '0', '0', '0', '0', '0', '0', '2', '0', '0', '0', '1', '1', '2', '0', '2', '0', '1', '2', '0', '2', '1', '1', '0', '1', '0', '2', '1', '0', '0', '0', '2', '0', '0', '2', '1', '0', '2', '2', '0', '0', '2', '2', '2', '2', '2', '0', '2', '2', '2', '0', '0', '1', '0', '1', '0', '0', '1', '0', '1', '1', '1', '2', '1', '1', '0', '0', '1', '2', '1', '0', '0', '1', '0', '1', '0', '2', '0', '2', '0', '1', '2', '0', '1', '2', '0', '2', '1', '2', '2', '0', '1', '1', '2', '1', '0', '1', '0', '2', '0', '2', '0', '1', '2', '1', '1', '2', '0', '1', '1', '0', '2', '0', '1', '1', '0', '2', '0', '2', '0', '0', '0', '1', '2', '0', '2', '2', '0', '0', '1', '0', '2', '0', '2', '2', '1', '2', '0', '0', '0', '0', '1', '0', '2', '1', '0', '0', '2', '0', '0', '1', '0', '1', '0', '2', '2', '0', '0', '2', '1', '2', '2', '2', '1', '2', '0', '1', '1', '2', '1', '2', '0', '2', '1', '2', '0', '2', '2', '1', '0', '0', '0', '2', '2', '1', '2', '2', '0', '2', '2', '0', '2', '2', '1', '0', '1', '0', '2', '2', '0', '0', '0', '0', '1', '2', '0', '1', '0', '0', '0', '0', '0', '1', '1', '0', '1', '1', '0', '2', '0', '2', '0', '2', '0', '2', '2', '0', '0', '2', '0', '0', '1', '1', '0', '1', '0', '2', '2', '0', '2', '0', '0', '2', '2', '2', '2', '1', '0', '1', '0', '2', '0', '0', '0', '2', '2', '2', '1', '2', '0', '2', '2', '2', '2', '0', '2', '2', '0', '2', '0', '0', '0', '2', '0', '0', '0', '1', '1', '2', '2', '0', '2', '0', '0', '2', '2', '2', '0', '0', '0', '1', '0', '0', '0', '1', '2', '2', '2', '0', '2', '2', '2', '0', '2', '2', '0', '0', '0', '0', '1', '2', '1', '0', '2', '1', '1', '0', '1', '0', '0', '1', '1', '0', '2', '0', '2', '1', '0', '1', '2', '1', '2', '2', '2', '0', '2', '0', '0', '2', '2', '2', '1', '1', '0', '1', '0', '2', '0', '0', '2', '2', '1', '0', '2', '2', '0', '2', '1', '1', '1', '1', '0', '0', '2', '2', '2', '0', '0', '1', '1', '0', '2', '2', '0', '1', '1', '1', '2', '1', '2', '0', '0', '2', '2', '0', '0', '2', '2', '2', '0', '0', '0', '1', '0', '1', '2', '2', '2', '2', '2', '0', '2', '0', '2', '0', '0', '0', '1', '0', '1', '0', '2', '1', '0', '2', '1', '0', '2', '0', '0', '2', '1', '0', '2', '1', '1', '0', '0', '0', '2', '0', '2', '2', '0', '0', '1', '0', '2', '1', '2', '0', '2', '0', '0', '2', '0', '1', '0', '2', '2', '0', '1', '0', '1', '0', '2', '0', '0', '2', '1', '1', '1', '0', '0', '1', '2', '2', '1', '0', '2', '0', '1', '2', '2', '2', '2', '0', '1', '1', '0', '0', '0', '0', '0', '0', '0', '2', '1', '1', '0', '1', '0', '2', '1', '0', '0', '2', '0', '1', '0', '1', '1', '2', '0', '0', '0', '2', '0', '1', '2', '2', '1', '1', '0', '2', '2', '1', '0', '0', '0', '1', '0', '0', '1', '2', '0', '2', '2', '0', '0', '2', '1', '0', '1', '1', '2', '2', '0', '0', '2', '2', '1', '1', '1', '2', '1', '0', '2', '1', '2', '2', '0', '1', '0', '0', '0', '0', '1', '2', '1', '2', '2', '0', '2', '2', '2', '2', '1', '0', '0', '2', '0', '1', '0', '1', '0', '0', '0', '2', '0', '2', '0', '0', '2', '2', '0', '1', '0', '0', '1', '0', '0', '2', '0', '2', '1', '1', '0', '2', '2', '1', '1', '2', '0', '2', '1', '2', '2', '0', '2', '0', '0', '2', '1', '1', '2', '0', '0', '0', '1', '2', '2', '0', '1', '0', '0', '0', '1', '1', '2', '0', '2', '1', '0', '1', '2', '0', '1', '0', '0', '2', '0', '0', '2', '2', '0', '2', '1', '2', '0', '1', '0', '0', '2', '1', '2', '1', '0', '1', '2', '0', '2', '2', '2', '0', '0', '2', '0', '1', '0', '2', '0', '1', '0', '2', '2', '0', '0', '0', '2', '0', '0', '2', '0', '2', '2', '2', '1', '1', '2', '0', '1', '1', '1', '1', '0', '0', '2', '0', '2', '1', '0', '1', '0', '1', '2', '0', '0', '0', '2', '1', '0', '0', '0', '2', '0', '1', '1', '0', '2', '0', '1', '2', '2']\n"
     ]
    }
   ],
   "source": [
    "print(true_pred)"
   ]
  },
  {
   "cell_type": "code",
   "execution_count": null,
   "metadata": {},
   "outputs": [],
   "source": []
  }
 ],
 "metadata": {
  "kernelspec": {
   "display_name": "Python 3",
   "language": "python",
   "name": "python3"
  },
  "language_info": {
   "codemirror_mode": {
    "name": "ipython",
    "version": 3
   },
   "file_extension": ".py",
   "mimetype": "text/x-python",
   "name": "python",
   "nbconvert_exporter": "python",
   "pygments_lexer": "ipython3",
   "version": "3.7.7"
  }
 },
 "nbformat": 4,
 "nbformat_minor": 4
}
